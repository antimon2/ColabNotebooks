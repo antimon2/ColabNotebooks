{
  "nbformat": 4,
  "nbformat_minor": 0,
  "metadata": {
    "colab": {
      "name": "こんにちはColaboratory",
      "version": "0.3.2",
      "provenance": [],
      "collapsed_sections": [],
      "toc_visible": true,
      "include_colab_link": true
    },
    "kernelspec": {
      "display_name": "Python 3",
      "name": "python3"
    }
  },
  "cells": [
    {
      "cell_type": "markdown",
      "metadata": {
        "id": "view-in-github",
        "colab_type": "text"
      },
      "source": [
        "<a href=\"https://colab.research.google.com/github/antimon2/ColabNotebooks/blob/master/%E3%81%93%E3%82%93%E3%81%AB%E3%81%A1%E3%81%AFColaboratory.ipynb\" target=\"_parent\"><img src=\"https://colab.research.google.com/assets/colab-badge.svg\" alt=\"Open In Colab\"/></a>"
      ]
    },
    {
      "metadata": {
        "colab_type": "text",
        "id": "luKDxbnWyNGy"
      },
      "cell_type": "markdown",
      "source": [
        "<img height=\"60px\" src=\"/img/colab_favicon.ico\" align=\"left\" hspace=\"20px\" vspace=\"5px\">\n",
        "\n",
        "## Colaboratory へようこそ\n",
        "\n",
        "Colaboratory は、完全にクラウドで実行される Jupyter ノートブック環境です。設定不要で、無料でご利用になれます。詳細については、[よくある質問](https://research.google.com/colaboratory/faq.html)をご覧ください。"
      ]
    },
    {
      "metadata": {
        "colab_type": "text",
        "id": "ol93N5hsyNG0"
      },
      "cell_type": "markdown",
      "source": [
        "## はじめに\n",
        "- [Colaboratory の概要](/notebooks/basic_features_overview.ipynb)\n",
        "- [データの読み込みと保存: ローカル ファイル、Google ドライブ、Google スプレッドシート、Google Cloud Storage](/notebooks/io.ipynb)\n",
        "- [ライブラリのインポートと依存関係のインストール](/notebooks/snippets/importing_libraries.ipynb)\n",
        "- [Google Cloud BigQuery の使用](/notebooks/bigquery.ipynb)\n",
        "- [フォーム](/notebooks/forms.ipynb)、[グラフ](/notebooks/charts.ipynb)、[マークダウン](/notebooks/markdown_guide.ipynb)、[ウィジェット](/notebooks/widgets.ipynb)\n",
        "- [GPU を使用した TensorFlow](/notebooks/gpu.ipynb)\n",
        "- [Machine Learning Crash Course](https://developers.google.com/machine-learning/crash-course/): [Pandas の概要](/notebooks/mlcc/intro_to_pandas.ipynb)、[TensorFlow の最初のステップ](/notebooks/mlcc/first_steps_with_tensor_flow.ipynb)\n"
      ]
    },
    {
      "metadata": {
        "colab_type": "text",
        "id": "1fr51oVCHRZU"
      },
      "cell_type": "markdown",
      "source": [
        "## 主要な機能"
      ]
    },
    {
      "metadata": {
        "colab_type": "text",
        "id": "f4-4_atqyNG3"
      },
      "cell_type": "markdown",
      "source": [
        "### TensorFlow の実行"
      ]
    },
    {
      "metadata": {
        "colab_type": "text",
        "id": "xcIRzSExyNG5"
      },
      "cell_type": "markdown",
      "source": [
        "Colaboratory では、ワンクリックで TensorFlow のコードをブラウザ上で実行できます。以下の例は 2 つのマトリックスを追加します。\n",
        "\n",
        "$\\begin{bmatrix}\n",
        "  1. & 1. & 1. \\\\\n",
        "  1. & 1. & 1. \\\\\n",
        "\\end{bmatrix} +\n",
        "\\begin{bmatrix}\n",
        "  1. & 2. & 3. \\\\\n",
        "  4. & 5. & 6. \\\\\n",
        "\\end{bmatrix} =\n",
        "\\begin{bmatrix}\n",
        "  2. & 3. & 4. \\\\\n",
        "  5. & 6. & 7. \\\\\n",
        "\\end{bmatrix}$"
      ]
    },
    {
      "metadata": {
        "colab_type": "code",
        "id": "oYZkU7ZN3CL0",
        "outputId": "d241022e-1c64-456e-a838-b01498ce9ac4",
        "colab": {
          "base_uri": "https://localhost:8080/",
          "height": 51
        }
      },
      "cell_type": "code",
      "source": [
        "import tensorflow as tf\n",
        "\n",
        "input1 = tf.ones((2, 3))\n",
        "input2 = tf.reshape(tf.range(1, 7, dtype=tf.float32), (2, 3))\n",
        "output = input1 + input2\n",
        "\n",
        "with tf.Session():\n",
        "  result = output.eval()\n",
        "result  "
      ],
      "execution_count": 1,
      "outputs": [
        {
          "output_type": "execute_result",
          "data": {
            "text/plain": [
              "array([[2., 3., 4.],\n",
              "       [5., 6., 7.]], dtype=float32)"
            ]
          },
          "metadata": {
            "tags": []
          },
          "execution_count": 1
        }
      ]
    },
    {
      "metadata": {
        "colab_type": "text",
        "id": "nwYF0E3Sjiy4"
      },
      "cell_type": "markdown",
      "source": [
        "### GitHub\n",
        "\n",
        "[ファイル] > [GitHub にコピーを保存...] を使うと、Colaboratory ノートブックのコピーを GitHub に保存できます。\n",
        "\n",
        "GitHub 上の .ipynb は、該当のパスを colab.research.google.com/github/ に追加するだけで読み込みが可能です。たとえば、[colab.research.google.com/github/tensorflow/models/blob/master/samples/core/get_started/_index.ipynb](https://colab.research.google.com/github/tensorflow/models/blob/master/samples/core/get_started/_index.ipynb) の場合、GitHub 上の[こちらの .ipynb](https://github.com/tensorflow/models/blob/master/samples/core/get_started/_index.ipynb) が読み込まれます。\n",
        "\n"
      ]
    },
    {
      "metadata": {
        "colab_type": "text",
        "id": "RSFr8zKJyNG_"
      },
      "cell_type": "markdown",
      "source": [
        "### 視覚化"
      ]
    },
    {
      "metadata": {
        "colab_type": "text",
        "id": "Q4UKcbSDyNHA"
      },
      "cell_type": "markdown",
      "source": [
        "Colaboratory には [matplotlib](https://matplotlib.org/) などの広く使用されているライブラリが含まれており、視覚化を簡単に行えます。"
      ]
    },
    {
      "metadata": {
        "colab_type": "code",
        "id": "YX9n2CR7yNHA",
        "outputId": "9ae6aa29-68e9-4585-912d-0cad7f1c2bf8",
        "colab": {
          "base_uri": "https://localhost:8080/",
          "height": 347
        }
      },
      "cell_type": "code",
      "source": [
        "import matplotlib.pyplot as plt\n",
        "import numpy as np\n",
        "\n",
        "x = np.arange(20)\n",
        "y = [x_i + np.random.randn(1) for x_i in x]\n",
        "a, b = np.polyfit(x, y, 1)\n",
        "_ = plt.plot(x, y, 'o', np.arange(20), a*np.arange(20)+b, '-')"
      ],
      "execution_count": 2,
      "outputs": [
        {
          "output_type": "display_data",
          "data": {
            "image/png": "[encoded data removed]",
            "text/plain": [
              "<Figure size 576x396 with 1 Axes>"
            ]
          },
          "metadata": {
            "tags": []
          }
        }
      ]
    },
    {
      "metadata": {
        "colab_type": "text",
        "id": "G53a-jziyNHE"
      },
      "cell_type": "markdown",
      "source": [
        "新しいライブラリを使用するには、`pip install` でノートブックの最上部にインストールすると、そのライブラリをノートブック内のどこでも使用できるようになります。一般的に使用されているライブラリをインポートする方法については、[ライブラリのインポートのサンプル ノートブック](/notebooks/snippets/importing_libraries.ipynb)をご覧ください。"
      ]
    },
    {
      "metadata": {
        "colab_type": "code",
        "id": "Ls8x10CoyNHF",
        "outputId": "a09ad6fb-bf37-4688-8039-263e37673bba",
        "colab": {
          "base_uri": "https://localhost:8080/",
          "height": 330
        }
      },
      "cell_type": "code",
      "source": [
        "!pip install -q matplotlib-venn\n",
        "\n",
        "from matplotlib_venn import venn2\n",
        "_ = venn2(subsets = (3, 2, 1))"
      ],
      "execution_count": 3,
      "outputs": [
        {
          "output_type": "display_data",
          "data": {
            "image/png": "[encoded data removed]",
            "text/plain": [
              "<Figure size 576x396 with 1 Axes>"
            ]
          },
          "metadata": {
            "tags": []
          }
        }
      ]
    },
    {
      "metadata": {
        "colab_type": "text",
        "id": "U8eu7lSAyNHM"
      },
      "cell_type": "markdown",
      "source": [
        "### ローカル ランタイムのサポート\n",
        "\n",
        "Colaboratory では、ローカルマシン上の Jupyter ランタイムへの接続をサポートしています。詳しくは、Google Colaboratory の[ドキュメント](https://research.google.com/colaboratory/local-runtimes.html)をご覧ください。"
      ]
    }
  ]
}